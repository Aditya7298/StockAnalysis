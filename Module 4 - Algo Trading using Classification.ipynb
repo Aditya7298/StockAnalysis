{
 "cells": [
  {
   "cell_type": "markdown",
   "metadata": {},
   "source": [
    "# Module 4 - Algo Trading using Classification"
   ]
  },
  {
   "cell_type": "markdown",
   "metadata": {},
   "source": [
    "   ### Welcome to the Answer notebook for Module 4 ! \n",
    "Make sure that you've submitted the module 3 notebook and unlocked Module 4 yourself before you start coding here\n"
   ]
  },
  {
   "cell_type": "markdown",
   "metadata": {},
   "source": [
    "### Query 4.1\n",
    "\n",
    "a. Create a new column 'Call' , whose entries are - \n",
    "\n",
    ">'Buy' if the stock price is below the lower Bollinger band \n",
    "\n",
    ">'Hold Buy/ Liquidate Short' if the stock price is between the lower and middle Bollinger band \n",
    "\n",
    ">'Hold Short/ Liquidate Buy' if the stock price is between the middle and upper Bollinger band \n",
    "\n",
    ">'Short' if the stock price is above the upper Bollinger band\n",
    "\n",
    "b. Now train a classification model with the 3 bollinger columns and the stock price as inputs and 'Calls' as output. Check the    accuracy on a test set. (There are many classifier models to choose from, try each one out and compare the accuracy for        each)\n",
    "\n",
    "c. Import another stock data and create the bollinger columns. Using the already defined model, predict the daily calls for        this new stock."
   ]
  },
  {
   "cell_type": "code",
   "execution_count": 146,
   "metadata": {},
   "outputs": [],
   "source": [
    "import pandas as pd\n",
    "import numpy as np\n",
    "from sklearn.model_selection import train_test_split\n",
    "from sklearn.linear_model import LogisticRegression\n",
    "from sklearn.svm import SVC\n",
    "from sklearn.tree import DecisionTreeClassifier\n",
    "from sklearn.ensemble import RandomForestClassifier\n",
    "import matplotlib.pyplot as plt"
   ]
  },
  {
   "cell_type": "code",
   "execution_count": 127,
   "metadata": {},
   "outputs": [
    {
     "data": {
      "text/html": [
       "<div>\n",
       "<style scoped>\n",
       "    .dataframe tbody tr th:only-of-type {\n",
       "        vertical-align: middle;\n",
       "    }\n",
       "\n",
       "    .dataframe tbody tr th {\n",
       "        vertical-align: top;\n",
       "    }\n",
       "\n",
       "    .dataframe thead th {\n",
       "        text-align: right;\n",
       "    }\n",
       "</style>\n",
       "<table border=\"1\" class=\"dataframe\">\n",
       "  <thead>\n",
       "    <tr style=\"text-align: right;\">\n",
       "      <th></th>\n",
       "      <th>Close Price</th>\n",
       "      <th>Upper Band</th>\n",
       "      <th>Lower Band</th>\n",
       "      <th>Middle Band</th>\n",
       "      <th>Call</th>\n",
       "      <th>Label</th>\n",
       "    </tr>\n",
       "    <tr>\n",
       "      <th>Date</th>\n",
       "      <th></th>\n",
       "      <th></th>\n",
       "      <th></th>\n",
       "      <th></th>\n",
       "      <th></th>\n",
       "      <th></th>\n",
       "    </tr>\n",
       "  </thead>\n",
       "  <tbody>\n",
       "    <tr>\n",
       "      <th>2017-06-01</th>\n",
       "      <td>153.05</td>\n",
       "      <td>162.385545</td>\n",
       "      <td>142.043027</td>\n",
       "      <td>152.214286</td>\n",
       "      <td>Hold Short</td>\n",
       "      <td>3</td>\n",
       "    </tr>\n",
       "    <tr>\n",
       "      <th>2017-06-02</th>\n",
       "      <td>159.35</td>\n",
       "      <td>161.218345</td>\n",
       "      <td>142.738798</td>\n",
       "      <td>151.978571</td>\n",
       "      <td>Hold Short</td>\n",
       "      <td>3</td>\n",
       "    </tr>\n",
       "    <tr>\n",
       "      <th>2017-06-05</th>\n",
       "      <td>162.90</td>\n",
       "      <td>162.686560</td>\n",
       "      <td>141.884869</td>\n",
       "      <td>152.285714</td>\n",
       "      <td>Short</td>\n",
       "      <td>4</td>\n",
       "    </tr>\n",
       "    <tr>\n",
       "      <th>2017-06-06</th>\n",
       "      <td>164.10</td>\n",
       "      <td>164.511487</td>\n",
       "      <td>140.895656</td>\n",
       "      <td>152.703571</td>\n",
       "      <td>Hold Short</td>\n",
       "      <td>3</td>\n",
       "    </tr>\n",
       "    <tr>\n",
       "      <th>2017-06-07</th>\n",
       "      <td>160.75</td>\n",
       "      <td>165.284460</td>\n",
       "      <td>140.601254</td>\n",
       "      <td>152.942857</td>\n",
       "      <td>Hold Short</td>\n",
       "      <td>3</td>\n",
       "    </tr>\n",
       "  </tbody>\n",
       "</table>\n",
       "</div>"
      ],
      "text/plain": [
       "            Close Price  Upper Band  Lower Band  Middle Band        Call  \\\n",
       "Date                                                                       \n",
       "2017-06-01       153.05  162.385545  142.043027   152.214286  Hold Short   \n",
       "2017-06-02       159.35  161.218345  142.738798   151.978571  Hold Short   \n",
       "2017-06-05       162.90  162.686560  141.884869   152.285714       Short   \n",
       "2017-06-06       164.10  164.511487  140.895656   152.703571  Hold Short   \n",
       "2017-06-07       160.75  165.284460  140.601254   152.942857  Hold Short   \n",
       "\n",
       "            Label  \n",
       "Date               \n",
       "2017-06-01      3  \n",
       "2017-06-02      3  \n",
       "2017-06-05      4  \n",
       "2017-06-06      3  \n",
       "2017-06-07      3  "
      ]
     },
     "execution_count": 127,
     "metadata": {},
     "output_type": "execute_result"
    }
   ],
   "source": [
    "df = pd.read_csv('week2.csv')\n",
    "df['Upper Band'] = df['Close Price'].rolling(window = 14).mean() + df['Close Price'].rolling(window = 14).std()*2\n",
    "df['Lower Band'] = df['Close Price'].rolling(window = 14).mean() - df['Close Price'].rolling(window = 14).std()*2\n",
    "df['Middle Band'] = df['Close Price'].rolling(window = 14).mean()\n",
    "\n",
    "df.dropna(inplace = True)\n",
    "df.Date = df.Date.astype('datetime64[s]')\n",
    "df.reset_index(inplace = True)\n",
    "df = df[['Date', 'Close Price', 'Upper Band', 'Lower Band', 'Middle Band']]\n",
    "\n",
    "df['Call'] = \"\"\n",
    "df['Label'] = 0\n",
    "\n",
    "for i in range(0,len(df)):\n",
    "    \n",
    "    if(df.at[i, 'Close Price'] < df.at[i, 'Lower Band']):\n",
    "        df.at[i,'Call'] = \"Buy\"\n",
    "        df.at[i,'Label'] = 1\n",
    "        \n",
    "    elif(df.at[i, 'Close Price'] >= df.at[i, 'Lower Band'] and df.at[i, 'Close Price'] < df.at[i, 'Middle Band']):\n",
    "        df.at[i, 'Call'] = \"Hold Buy\"\n",
    "        df.at[i,'Label'] = 2\n",
    "        \n",
    "    elif(df.at[i, 'Close Price'] >= df.at[i, 'Middle Band'] and df.at[i, 'Close Price'] < df.at[i, 'Upper Band']):\n",
    "        df.at[i, 'Call'] = \"Hold Short\"        \n",
    "        df.at[i,'Label'] = 3\n",
    "        \n",
    "    else:\n",
    "        df.at[i, 'Call'] = \"Short\"    \n",
    "        df.at[i,'Label'] = 4\n",
    "        \n",
    "df.set_index('Date').head()  "
   ]
  },
  {
   "cell_type": "code",
   "execution_count": 128,
   "metadata": {},
   "outputs": [],
   "source": [
    "X = np.array(df[['Close Price', 'Upper Band', 'Lower Band', 'Middle Band']])\n",
    "y = np.array(df['Label'])\n",
    "X_train , X_test, y_train, y_test = train_test_split(X, y, test_size = .2)"
   ]
  },
  {
   "cell_type": "code",
   "execution_count": 129,
   "metadata": {},
   "outputs": [
    {
     "name": "stdout",
     "output_type": "stream",
     "text": [
      "Prediction Accuracy for Logistic Regression: 96.90721649484536\n"
     ]
    }
   ],
   "source": [
    "logistic_model = LogisticRegression(random_state=0, solver='lbfgs',multi_class='multinomial', max_iter = 10000).fit(X_train, y_train)\n",
    "print('Prediction Accuracy for Logistic Regression: ' + str(logistic_model.score(X_test,y_test)*100))"
   ]
  },
  {
   "cell_type": "code",
   "execution_count": 130,
   "metadata": {},
   "outputs": [
    {
     "name": "stdout",
     "output_type": "stream",
     "text": [
      "Prediction Accuracy for SVM: 96.90721649484536\n"
     ]
    }
   ],
   "source": [
    "svm_model_linear = SVC(kernel = 'linear', C = 1).fit(X_train, y_train)\n",
    "print('Prediction Accuracy for SVM: ' + str(svm_model_linear.score(X_test,y_test)*100))"
   ]
  },
  {
   "cell_type": "code",
   "execution_count": 131,
   "metadata": {},
   "outputs": [
    {
     "name": "stdout",
     "output_type": "stream",
     "text": [
      "Prediction Accuracy for Decision Tree Classifier: 75.25773195876289\n"
     ]
    }
   ],
   "source": [
    "dtree_model = DecisionTreeClassifier(random_state = 0,max_depth = 5).fit(X_train, y_train) \n",
    "print('Prediction Accuracy for Decision Tree Classifier: ' + str(dtree_model.score(X_test,y_test)*100))"
   ]
  },
  {
   "cell_type": "markdown",
   "metadata": {},
   "source": [
    "The various Scores for the Classification Models used are:\n",
    "\n",
    ">Logistic Regression : 96%\n",
    "\n",
    ">Support Vector Machine : 96.09%\n",
    "\n",
    ">Decision Tree Clssifier : 75.25%\n",
    "\n",
    "Now using SVM on the stocks of the company PVR, we have :-"
   ]
  },
  {
   "cell_type": "code",
   "execution_count": 132,
   "metadata": {},
   "outputs": [],
   "source": [
    "df = pd.read_csv(r'C:\\Users\\DELL\\Desktop\\Internship1\\PVR.csv')"
   ]
  },
  {
   "cell_type": "code",
   "execution_count": 133,
   "metadata": {},
   "outputs": [],
   "source": [
    "df['Upper Band'] = df['Close Price'].rolling(window = 14).mean() + df['Close Price'].rolling(window = 14).std()*2\n",
    "df['Lower Band'] = df['Close Price'].rolling(window = 14).mean() - df['Close Price'].rolling(window = 14).std()*2\n",
    "df['Middle Band'] = df['Close Price'].rolling(window = 14).mean()\n",
    "\n",
    "df.dropna(inplace = True)\n",
    "df.Date = df.Date.astype('datetime64[s]')\n",
    "df.reset_index(inplace = True)\n",
    "df = df[['Date', 'Close Price', 'Upper Band', 'Lower Band', 'Middle Band']] "
   ]
  },
  {
   "cell_type": "code",
   "execution_count": 134,
   "metadata": {},
   "outputs": [],
   "source": [
    "X_pvr = np.array(df[['Close Price', 'Upper Band', 'Lower Band', 'Middle Band']])\n",
    "df['label'] = pd.DataFrame(svm_model_linear.predict(X_pvr))"
   ]
  },
  {
   "cell_type": "code",
   "execution_count": 135,
   "metadata": {},
   "outputs": [],
   "source": [
    "df['Call'] = \"\"\n",
    "for i in range(0,len(df)):\n",
    "    \n",
    "    if(df.at[i, 'label'] == 1):\n",
    "        df.at[i, 'Call'] = 'Buy'\n",
    "        \n",
    "    elif(df.at[i, 'label'] == 2):\n",
    "        df.at[i, 'Call'] = 'Hold Buy'\n",
    "        \n",
    "    elif(df.at[i, 'label'] == 3):\n",
    "        df.at[i, 'Call'] = 'Hold Short'\n",
    "        \n",
    "    else:\n",
    "        df.at[i, 'Call'] = 'Short'\n",
    "        \n",
    "df.index = df.Date \n",
    "df = df.drop('label', axis = 1)"
   ]
  },
  {
   "cell_type": "markdown",
   "metadata": {},
   "source": [
    "Using the trained model to predict the stocks of PVR we have :-"
   ]
  },
  {
   "cell_type": "code",
   "execution_count": 136,
   "metadata": {},
   "outputs": [
    {
     "data": {
      "text/html": [
       "<div>\n",
       "<style scoped>\n",
       "    .dataframe tbody tr th:only-of-type {\n",
       "        vertical-align: middle;\n",
       "    }\n",
       "\n",
       "    .dataframe tbody tr th {\n",
       "        vertical-align: top;\n",
       "    }\n",
       "\n",
       "    .dataframe thead th {\n",
       "        text-align: right;\n",
       "    }\n",
       "</style>\n",
       "<table border=\"1\" class=\"dataframe\">\n",
       "  <thead>\n",
       "    <tr style=\"text-align: right;\">\n",
       "      <th></th>\n",
       "      <th>Close Price</th>\n",
       "      <th>Upper Band</th>\n",
       "      <th>Lower Band</th>\n",
       "      <th>Middle Band</th>\n",
       "      <th>Call</th>\n",
       "    </tr>\n",
       "    <tr>\n",
       "      <th>Date</th>\n",
       "      <th></th>\n",
       "      <th></th>\n",
       "      <th></th>\n",
       "      <th></th>\n",
       "      <th></th>\n",
       "    </tr>\n",
       "  </thead>\n",
       "  <tbody>\n",
       "    <tr>\n",
       "      <th>2017-06-01</th>\n",
       "      <td>1455.70</td>\n",
       "      <td>1551.543241</td>\n",
       "      <td>1421.935331</td>\n",
       "      <td>1486.739286</td>\n",
       "      <td>Hold Buy</td>\n",
       "    </tr>\n",
       "    <tr>\n",
       "      <th>2017-06-02</th>\n",
       "      <td>1457.80</td>\n",
       "      <td>1544.463966</td>\n",
       "      <td>1419.421749</td>\n",
       "      <td>1481.942857</td>\n",
       "      <td>Hold Buy</td>\n",
       "    </tr>\n",
       "    <tr>\n",
       "      <th>2017-06-05</th>\n",
       "      <td>1442.25</td>\n",
       "      <td>1531.478940</td>\n",
       "      <td>1418.585345</td>\n",
       "      <td>1475.032143</td>\n",
       "      <td>Hold Buy</td>\n",
       "    </tr>\n",
       "    <tr>\n",
       "      <th>2017-06-06</th>\n",
       "      <td>1392.85</td>\n",
       "      <td>1527.738588</td>\n",
       "      <td>1402.689984</td>\n",
       "      <td>1465.214286</td>\n",
       "      <td>Buy</td>\n",
       "    </tr>\n",
       "    <tr>\n",
       "      <th>2017-06-07</th>\n",
       "      <td>1400.70</td>\n",
       "      <td>1521.376556</td>\n",
       "      <td>1392.716301</td>\n",
       "      <td>1457.046429</td>\n",
       "      <td>Hold Buy</td>\n",
       "    </tr>\n",
       "  </tbody>\n",
       "</table>\n",
       "</div>"
      ],
      "text/plain": [
       "            Close Price   Upper Band   Lower Band  Middle Band      Call\n",
       "Date                                                                    \n",
       "2017-06-01      1455.70  1551.543241  1421.935331  1486.739286  Hold Buy\n",
       "2017-06-02      1457.80  1544.463966  1419.421749  1481.942857  Hold Buy\n",
       "2017-06-05      1442.25  1531.478940  1418.585345  1475.032143  Hold Buy\n",
       "2017-06-06      1392.85  1527.738588  1402.689984  1465.214286       Buy\n",
       "2017-06-07      1400.70  1521.376556  1392.716301  1457.046429  Hold Buy"
      ]
     },
     "execution_count": 136,
     "metadata": {},
     "output_type": "execute_result"
    }
   ],
   "source": [
    "df.head().drop('Date', axis = 1)"
   ]
  },
  {
   "cell_type": "markdown",
   "metadata": {},
   "source": [
    "### Query 4.2 \n",
    "Now, we'll again utilize classification to make a trade call, and measure the efficiency of our trading algorithm over the past two years. For this assignment , we will use RandomForest classifier.\n",
    "\n",
    "a. Import the stock data file of your choice\n",
    "\n",
    "b. Define 4 new columns , whose values are: \n",
    "   % change between Open and Close price for the day \n",
    "   % change between Low and High price for the day \n",
    "   5 day rolling mean of the day to day % change in Close Price \n",
    "   5 day rolling std of the day to day % change in Close Price\n",
    "   \n",
    "c. Create a new column 'Action' whose values are: \n",
    "   1 if next day's price(Close) is greater than present day's. \n",
    "   (-1) if next day's price(Close) is less than present day's. \n",
    "\n",
    "d. Construct a classification model with the 4 new inputs and 'Action' as target\n",
    "\n",
    "e. Check the accuracy of this model , also , plot the net cumulative returns (in %) if we were to follow this algorithmic model"
   ]
  },
  {
   "cell_type": "code",
   "execution_count": 137,
   "metadata": {},
   "outputs": [
    {
     "data": {
      "text/html": [
       "<div>\n",
       "<style scoped>\n",
       "    .dataframe tbody tr th:only-of-type {\n",
       "        vertical-align: middle;\n",
       "    }\n",
       "\n",
       "    .dataframe tbody tr th {\n",
       "        vertical-align: top;\n",
       "    }\n",
       "\n",
       "    .dataframe thead th {\n",
       "        text-align: right;\n",
       "    }\n",
       "</style>\n",
       "<table border=\"1\" class=\"dataframe\">\n",
       "  <thead>\n",
       "    <tr style=\"text-align: right;\">\n",
       "      <th></th>\n",
       "      <th>Close Price</th>\n",
       "      <th>%Change Open and Close</th>\n",
       "      <th>%Change High and Low</th>\n",
       "      <th>Day to Day % Change Mean</th>\n",
       "      <th>Day to Day % Change Std.</th>\n",
       "      <th>Action</th>\n",
       "    </tr>\n",
       "    <tr>\n",
       "      <th>Date</th>\n",
       "      <th></th>\n",
       "      <th></th>\n",
       "      <th></th>\n",
       "      <th></th>\n",
       "      <th></th>\n",
       "      <th></th>\n",
       "    </tr>\n",
       "  </thead>\n",
       "  <tbody>\n",
       "    <tr>\n",
       "      <th>2017-06-01</th>\n",
       "      <td>153.05</td>\n",
       "      <td>3.626266</td>\n",
       "      <td>6.200318</td>\n",
       "      <td>0.458216</td>\n",
       "      <td>1.413629</td>\n",
       "      <td>1.0</td>\n",
       "    </tr>\n",
       "    <tr>\n",
       "      <th>2017-06-02</th>\n",
       "      <td>159.35</td>\n",
       "      <td>2.698463</td>\n",
       "      <td>6.475260</td>\n",
       "      <td>1.281476</td>\n",
       "      <td>2.108093</td>\n",
       "      <td>1.0</td>\n",
       "    </tr>\n",
       "    <tr>\n",
       "      <th>2017-06-05</th>\n",
       "      <td>162.90</td>\n",
       "      <td>1.718846</td>\n",
       "      <td>4.106715</td>\n",
       "      <td>1.867364</td>\n",
       "      <td>1.804349</td>\n",
       "      <td>1.0</td>\n",
       "    </tr>\n",
       "    <tr>\n",
       "      <th>2017-06-06</th>\n",
       "      <td>164.10</td>\n",
       "      <td>0.121877</td>\n",
       "      <td>4.451039</td>\n",
       "      <td>1.853186</td>\n",
       "      <td>1.815006</td>\n",
       "      <td>-1.0</td>\n",
       "    </tr>\n",
       "    <tr>\n",
       "      <th>2017-06-07</th>\n",
       "      <td>160.75</td>\n",
       "      <td>-2.612753</td>\n",
       "      <td>5.749852</td>\n",
       "      <td>1.558383</td>\n",
       "      <td>2.347935</td>\n",
       "      <td>-1.0</td>\n",
       "    </tr>\n",
       "  </tbody>\n",
       "</table>\n",
       "</div>"
      ],
      "text/plain": [
       "            Close Price  %Change Open and Close  %Change High and Low  \\\n",
       "Date                                                                    \n",
       "2017-06-01       153.05                3.626266              6.200318   \n",
       "2017-06-02       159.35                2.698463              6.475260   \n",
       "2017-06-05       162.90                1.718846              4.106715   \n",
       "2017-06-06       164.10                0.121877              4.451039   \n",
       "2017-06-07       160.75               -2.612753              5.749852   \n",
       "\n",
       "            Day to Day % Change Mean  Day to Day % Change Std.  Action  \n",
       "Date                                                                    \n",
       "2017-06-01                  0.458216                  1.413629     1.0  \n",
       "2017-06-02                  1.281476                  2.108093     1.0  \n",
       "2017-06-05                  1.867364                  1.804349     1.0  \n",
       "2017-06-06                  1.853186                  1.815006    -1.0  \n",
       "2017-06-07                  1.558383                  2.347935    -1.0  "
      ]
     },
     "execution_count": 137,
     "metadata": {},
     "output_type": "execute_result"
    }
   ],
   "source": [
    "df = pd.read_csv('week3.csv')\n",
    "df['%Change Open and Close'] = ((df['Close Price'] - df['Open Price'])/df['Close Price'])*100\n",
    "df['%Change High and Low'] = ((df['High Price'] - df['Low Price'])/df['High Price'])*100\n",
    "df['Day to Day % Change'] =  df['Close Price'].pct_change()*100\n",
    "df['Day to Day % Change Mean'] = df['Day to Day % Change'].rolling(window = 5).mean()\n",
    "df['Day to Day % Change Std.'] = df['Day to Day % Change'].rolling(window = 5).std()\n",
    "df.dropna(inplace = True)\n",
    "df.Date = df.Date.astype('datetime64[s]')\n",
    "df.reset_index(inplace = True)\n",
    "df.drop('index',axis = 1, inplace = True)\n",
    "df.head()\n",
    "\n",
    "df['Action'] = 0\n",
    "\n",
    "for i in range(0,len(df)-1):\n",
    "    \n",
    "    if(df.at[i+1, 'Close Price'] > df.at[i, 'Close Price']):\n",
    "        df.at[i, 'Action'] = 1\n",
    "        \n",
    "    else:\n",
    "        df.at[i, 'Action'] = -1\n",
    "        \n",
    "df.index = df.Date\n",
    "df = df[['Close Price', '%Change Open and Close',\n",
    "         '%Change High and Low','Day to Day % Change Mean',\n",
    "         'Day to Day % Change Std.','Action']]  \n",
    "\n",
    "df = df.where(df['Action'] != 0)\n",
    "df.dropna(inplace = True)\n",
    "\n",
    "df.head()"
   ]
  },
  {
   "cell_type": "code",
   "execution_count": 138,
   "metadata": {},
   "outputs": [],
   "source": [
    "X = np.array(df[['%Change Open and Close', '%Change High and Low','Day to Day % Change Mean', 'Day to Day % Change Std.']])\n",
    "y = np.array(df['Action'])"
   ]
  },
  {
   "cell_type": "code",
   "execution_count": 139,
   "metadata": {},
   "outputs": [
    {
     "data": {
      "text/plain": [
       "1.0"
      ]
     },
     "execution_count": 139,
     "metadata": {},
     "output_type": "execute_result"
    }
   ],
   "source": [
    "randonforest_clf = RandomForestClassifier(n_estimators=100, bootstrap=True, max_features='sqrt', max_depth=1000)\n",
    "randonforest_clf.fit(X,y)\n",
    "randonforest_clf.score(X,y)"
   ]
  },
  {
   "cell_type": "markdown",
   "metadata": {},
   "source": [
    "Accuracy for the Random Forest Classifier is 100%"
   ]
  },
  {
   "cell_type": "code",
   "execution_count": 141,
   "metadata": {},
   "outputs": [],
   "source": [
    "df.reset_index(inplace = True)\n",
    "df['Cumulative Returns'] = df['Close Price']/df.at[0, 'Close Price'] - 1\n",
    "df.index = df.Date"
   ]
  },
  {
   "cell_type": "code",
   "execution_count": 149,
   "metadata": {},
   "outputs": [
    {
     "data": {
      "image/png": "[encoded data removed]",
      "text/plain": [
       "<Figure size 432x288 with 1 Axes>"
      ]
     },
     "metadata": {
      "needs_background": "light"
     },
     "output_type": "display_data"
    }
   ],
   "source": [
    "df['Cumulative Returns'].plot()\n",
    "t = plt.ylabel('% Returns')"
   ]
  }
 ],
 "metadata": {
  "kernelspec": {
   "display_name": "Python 3",
   "language": "python",
   "name": "python3"
  },
  "language_info": {
   "codemirror_mode": {
    "name": "ipython",
    "version": 3
   },
   "file_extension": ".py",
   "mimetype": "text/x-python",
   "name": "python",
   "nbconvert_exporter": "python",
   "pygments_lexer": "ipython3",
   "version": "3.7.1"
  }
 },
 "nbformat": 4,
 "nbformat_minor": 2
}
