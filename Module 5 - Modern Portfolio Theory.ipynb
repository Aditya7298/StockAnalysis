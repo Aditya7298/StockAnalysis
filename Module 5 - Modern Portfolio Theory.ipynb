{
 "cells": [
  {
   "cell_type": "markdown",
   "metadata": {},
   "source": [
    "# Module 5 - Modern Portfolio Theory"
   ]
  },
  {
   "cell_type": "markdown",
   "metadata": {},
   "source": [
    "   ### Welcome to the Answer notebook for Module 5 ! \n",
    "Make sure that you've submitted the module 4 notebook and unlocked Module 5 yourself before you start coding here\n"
   ]
  },
  {
   "cell_type": "markdown",
   "metadata": {},
   "source": [
    "### Query 5.1 \n",
    "5.1 For your chosen stock, calculate the mean daily return and daily standard deviation of returns, and then just annualise them to get mean expected annual return and volatility of that single stock. **( annual mean = daily mean * 252 , annual stdev = daily stdev * sqrt(252) )**"
   ]
  },
  {
   "cell_type": "code",
   "execution_count": 1,
   "metadata": {},
   "outputs": [],
   "source": [
    "import numpy as np\n",
    "import pandas as pd\n",
    "import matplotlib.pyplot as plt"
   ]
  },
  {
   "cell_type": "code",
   "execution_count": 22,
   "metadata": {},
   "outputs": [
    {
     "name": "stdout",
     "output_type": "stream",
     "text": [
      "0.46 0.4\n"
     ]
    }
   ],
   "source": [
    "SONATA_df = pd.read_csv(r'C:\\Users\\DELL\\Desktop\\Internship1\\SONATSOFTW.csv')[['Date', 'Close Price']]\n",
    "SONATA_df.columns = ['Date', 'SONATA Price']\n",
    "SONATA_df['SONATA Returns'] = SONATA_df['SONATA Price'].pct_change()\n",
    "SONATA_df.dropna(inplace = True)\n",
    "SONATA_returns = round(np.mean(SONATA_df['SONATA Returns'])*252,2)\n",
    "SONATA_volatality = round(np.std(SONATA_df['SONATA Returns'])*np.sqrt(252),2)\n",
    "\n",
    "print(SONATA_returns,SONATA_volatality)    "
   ]
  },
  {
   "cell_type": "markdown",
   "metadata": {},
   "source": [
    "The Annual Return and Volatality of the stocks of the company SONATA SOFTWARE are:\n",
    "\n",
    ">Returns : 0.46\n",
    "\n",
    ">Volatality : 0.4"
   ]
  },
  {
   "cell_type": "markdown",
   "metadata": {},
   "source": [
    "### Query 5.2\n",
    "\n",
    "5.2 Now, we need to diversify our portfolio. Build your own portfolio by choosing any 5 stocks, preferably of different sectors and different caps. Assume that all 5 have the same weightage, i.e. 20% . Now calculate the annual returns and volatility of the entire portfolio ( Hint : Don't forget to use the covariance )"
   ]
  },
  {
   "cell_type": "code",
   "execution_count": 19,
   "metadata": {},
   "outputs": [
    {
     "name": "stdout",
     "output_type": "stream",
     "text": [
      "0.11 0.31\n"
     ]
    }
   ],
   "source": [
    "PVR_df = pd.read_csv(r'C:\\Users\\DELL\\Desktop\\Internship1\\PVR.csv')[['Date', 'Close Price']]\n",
    "PVR_df.columns = ['Date', 'PVR Price']\n",
    "PVR_df['PVR Returns'] = PVR_df['PVR Price'].pct_change()\n",
    "PVR_df.dropna(inplace = True)\n",
    "PVR_returns = round(np.mean(PVR_df['PVR Returns'])*252,2)\n",
    "PVR_volatality = round(np.std(PVR_df['PVR Returns'])*np.sqrt(252),2)\n",
    "\n",
    "print(PVR_returns,PVR_volatality)    "
   ]
  },
  {
   "cell_type": "code",
   "execution_count": 20,
   "metadata": {},
   "outputs": [
    {
     "name": "stdout",
     "output_type": "stream",
     "text": [
      "0.09 0.44\n"
     ]
    }
   ],
   "source": [
    "RELIANCE_df = pd.read_csv(r'C:\\Users\\DELL\\Desktop\\Internship1\\RELIANCE.csv')[['Date', 'Close Price']]\n",
    "RELIANCE_df.columns = ['Date', 'RELIANCE Price']\n",
    "RELIANCE_df['RELIANCE Returns'] = RELIANCE_df['RELIANCE Price'].pct_change()\n",
    "RELIANCE_df.dropna(inplace = True)\n",
    "RELIANCE_returns = round(np.mean(RELIANCE_df['RELIANCE Returns'])*252,2)\n",
    "RELIANCE_volatality = round(np.std(RELIANCE_df['RELIANCE Returns'])*np.sqrt(252),2)\n",
    "\n",
    "print(RELIANCE_returns,RELIANCE_volatality)    "
   ]
  },
  {
   "cell_type": "code",
   "execution_count": 24,
   "metadata": {},
   "outputs": [
    {
     "name": "stdout",
     "output_type": "stream",
     "text": [
      "0.07 0.36\n"
     ]
    }
   ],
   "source": [
    "RAYMOND_df = pd.read_csv(r'C:\\Users\\DELL\\Desktop\\Internship1\\RAYMOND.csv')[['Date', 'Close Price']]\n",
    "RAYMOND_df.columns = ['Date', 'RAYMOND Price']\n",
    "RAYMOND_df['RAYMOND Returns'] = RAYMOND_df['RAYMOND Price'].pct_change()\n",
    "RAYMOND_df.dropna(inplace = True)\n",
    "RAYMOND_returns = round(np.mean(RAYMOND_df['RAYMOND Returns'])*252,2)\n",
    "RAYMOND_volatality = round(np.std(RAYMOND_df['RAYMOND Returns'])*np.sqrt(252),2)\n",
    "\n",
    "print(RAYMOND_returns,RAYMOND_volatality)   "
   ]
  },
  {
   "cell_type": "code",
   "execution_count": 26,
   "metadata": {},
   "outputs": [
    {
     "name": "stdout",
     "output_type": "stream",
     "text": [
      "-0.24 0.54\n"
     ]
    }
   ],
   "source": [
    "PNB_df = pd.read_csv(r'C:\\Users\\DELL\\Desktop\\Internship1\\PNB.csv')[['Date', 'Close Price']]\n",
    "PNB_df.columns = ['Date', 'PNB Price']\n",
    "PNB_df['PNB Returns'] = PNB_df['PNB Price'].pct_change()\n",
    "PNB_df.dropna(inplace = True)\n",
    "PNB_returns = round(np.mean(PNB_df['PNB Returns'])*252,2)\n",
    "PNB_volatality = round(np.std(PNB_df['PNB Returns'])*np.sqrt(252),2)\n",
    "\n",
    "print(PNB_returns,PNB_volatality)   "
   ]
  },
  {
   "cell_type": "markdown",
   "metadata": {},
   "source": [
    "The Annual Returns and Volatality for the chosen Companies are :\n",
    "\n",
    ">PVR : 0.11 ; 0.31\n",
    "\n",
    ">RELIANCE : 0.09 ; 0.44\n",
    "\n",
    ">RAYMOND : 0.07 ; 0.36\n",
    "\n",
    ">PNB : -0.24 ; 0.54\n",
    "\n",
    ">SONATA SOFTWARE : 0.46 ; 0.4"
   ]
  },
  {
   "cell_type": "code",
   "execution_count": 41,
   "metadata": {},
   "outputs": [],
   "source": [
    "portfolio_df = PNB_df.merge(RAYMOND_df, how = 'inner', left_on = 'Date', right_on = 'Date')[['Date', 'PNB Price', 'RAYMOND Price']]\n",
    "portfolio_df = portfolio_df.merge(SONATA_df, how = 'inner', left_on = 'Date', right_on = 'Date')[['Date', 'PNB Price', 'RAYMOND Price', 'SONATA Price']]\n",
    "portfolio_df = portfolio_df.merge(PVR_df, how = 'inner',  left_on = 'Date', right_on = 'Date')[['Date', 'PNB Price', 'RAYMOND Price', 'SONATA Price', 'PVR Price']]\n",
    "portfolio_df = portfolio_df.merge(RELIANCE_df, how = 'inner',  left_on = 'Date', right_on = 'Date')[['Date', 'PNB Price', 'RAYMOND Price', 'SONATA Price', 'PVR Price' ,'RELIANCE Price']]"
   ]
  },
  {
   "cell_type": "code",
   "execution_count": 54,
   "metadata": {},
   "outputs": [],
   "source": [
    "weights = np.asarray([.2,.2,.2,.2,.2])\n",
    "\n",
    "returns = portfolio_df.drop(['Date'], axis = 1).pct_change().dropna()\n",
    "cov_matrix = returns.cov()\n",
    "\n",
    "mean_daily_return = returns.mean()"
   ]
  },
  {
   "cell_type": "code",
   "execution_count": 64,
   "metadata": {},
   "outputs": [
    {
     "name": "stdout",
     "output_type": "stream",
     "text": [
      "0.091 0.24\n"
     ]
    }
   ],
   "source": [
    "portfolio_returns = round(np.sum(mean_daily_return*weights*252),3)\n",
    "portfolio_std_dev = round(np.sqrt(np.dot(weights.T,np.dot(cov_matrix, weights))) * np.sqrt(252),2)\n",
    "\n",
    "print(portfolio_returns, portfolio_std_dev)"
   ]
  },
  {
   "cell_type": "markdown",
   "metadata": {},
   "source": [
    "The Annual Return and Volatality of the entire portfolio is:\n",
    "\n",
    ">Return = 0.091\n",
    "\n",
    ">Volatality = 0.24"
   ]
  },
  {
   "cell_type": "markdown",
   "metadata": {},
   "source": [
    "### Query 5.3 & Query 5.4\n",
    "\n",
    "5.3 Prepare a scatter plot for differing weights of the individual stocks in the portfolio , the axes being the returns and volatility. Colour the data points based on the Sharpe Ratio ( Returns/Volatility) of that particular portfolio.\n",
    "\n",
    "5.4 Mark the 2 portfolios where -\n",
    "Portfolio 1 - The Sharpe ratio is the highest\n",
    "Portfolio 2 - The volatility is the lowest. "
   ]
  },
  {
   "cell_type": "code",
   "execution_count": 81,
   "metadata": {},
   "outputs": [],
   "source": [
    "num_portfolios = 25000\n",
    "stocks = ['PNB', 'RAYMOND' , 'SONATA' , 'PVR' , 'RELIANCE']\n",
    "\n",
    "results = np.zeros((4+len(stocks)-1,num_portfolios))\n",
    "\n",
    "for i in range(num_portfolios):\n",
    "    \n",
    "    weights = np.array(np.random.random(5))\n",
    "\n",
    "    weights /= np.sum(weights)\n",
    "    \n",
    "    portfolio_return = np.sum(mean_daily_return * weights) * 252\n",
    "    portfolio_std_dev = np.sqrt(np.dot(weights.T,np.dot(cov_matrix, weights))) * np.sqrt(252)\n",
    "    \n",
    "    results[0,i] = portfolio_return\n",
    "    results[1,i] = portfolio_std_dev\n",
    "\n",
    "    results[2,i] = results[0,i] / results[1,i]\n",
    "\n",
    "    for j in range(len(weights)):\n",
    "        results[j+3,i] = weights[j]\n",
    "\n",
    "results_frame = pd.DataFrame(results.T,columns=['ret','stdev','sharpe',stocks[0],stocks[1],stocks[2],stocks[3],stocks[4]])\n",
    "\n",
    "max_sharpe_port = results_frame.iloc[results_frame['sharpe'].idxmax()]\n",
    "\n",
    "min_vol_port = results_frame.iloc[results_frame['stdev'].idxmin()]"
   ]
  },
  {
   "cell_type": "code",
   "execution_count": 82,
   "metadata": {},
   "outputs": [
    {
     "data": {
      "text/plain": [
       "<matplotlib.collections.PathCollection at 0x286388ecf28>"
      ]
     },
     "execution_count": 82,
     "metadata": {},
     "output_type": "execute_result"
    },
    {
     "data": {
      "image/png": "[encoded data removed]",
      "text/plain": [
       "<Figure size 432x288 with 2 Axes>"
      ]
     },
     "metadata": {
      "needs_background": "light"
     },
     "output_type": "display_data"
    }
   ],
   "source": [
    "plt.scatter(results_frame.stdev,results_frame.ret,c=results_frame.sharpe,cmap='RdYlBu')\n",
    "plt.xlabel('Volatility')\n",
    "plt.ylabel('Returns')\n",
    "plt.colorbar()\n",
    "\n",
    "plt.scatter(max_sharpe_port[1],max_sharpe_port[0],marker=(5,1,0),color='r',s=1000)\n",
    "\n",
    "plt.scatter(min_vol_port[1],min_vol_port[0],marker=(5,1,0),color='g',s=1000)"
   ]
  }
 ],
 "metadata": {
  "kernelspec": {
   "display_name": "Python 3",
   "language": "python",
   "name": "python3"
  },
  "language_info": {
   "codemirror_mode": {
    "name": "ipython",
    "version": 3
   },
   "file_extension": ".py",
   "mimetype": "text/x-python",
   "name": "python",
   "nbconvert_exporter": "python",
   "pygments_lexer": "ipython3",
   "version": "3.7.1"
  }
 },
 "nbformat": 4,
 "nbformat_minor": 2
}
